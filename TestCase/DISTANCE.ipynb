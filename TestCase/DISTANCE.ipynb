{
 "cells": [
  {
   "cell_type": "markdown",
   "metadata": {},
   "source": [
    "# CLASSIFICATION PAR DISTANCE"
   ]
  },
  {
   "cell_type": "markdown",
   "metadata": {},
   "source": [
    "### IMPORTS"
   ]
  },
  {
   "cell_type": "code",
   "execution_count": 1,
   "metadata": {},
   "outputs": [],
   "source": [
    "from distance import distanceModel, useDistance\n",
    "from TrainModel import image_to_array\n",
    "from IPython.display import Image\n",
    "from termcolor import colored\n",
    "import cv2\n",
    "import os"
   ]
  },
  {
   "cell_type": "markdown",
   "metadata": {},
   "source": [
    "### REPERTOIRES"
   ]
  },
  {
   "cell_type": "code",
   "execution_count": 2,
   "metadata": {},
   "outputs": [],
   "source": [
    "# Répertoires issus du git : /Entrainement/Distance/\n",
    "REP = [\"/home/victor/esgi/L3/Projet2019/MachineLearningProject/Train/Distance/FR/\",\n",
    "       \"/home/victor/esgi/L3/Projet2019/MachineLearningProject/Train/Distance/US/\"]"
   ]
  },
  {
   "cell_type": "markdown",
   "metadata": {},
   "source": [
    "### ÉCRITURE DU MODÈLE"
   ]
  },
  {
   "cell_type": "code",
   "execution_count": 3,
   "metadata": {},
   "outputs": [],
   "source": [
    "trainImg = \"1.jpg\""
   ]
  },
  {
   "cell_type": "code",
   "execution_count": 4,
   "metadata": {},
   "outputs": [
    {
     "name": "stdout",
     "output_type": "stream",
     "text": [
      "Représentant France: \n"
     ]
    },
    {
     "data": {
      "image/jpeg": "[encoded data removed]",
      "text/plain": [
       "<IPython.core.display.Image object>"
      ]
     },
     "execution_count": 4,
     "metadata": {},
     "output_type": "execute_result"
    }
   ],
   "source": [
    "print(\"Représentant France: \")\n",
    "Image(REP[0] + trainImg)"
   ]
  },
  {
   "cell_type": "code",
   "execution_count": 5,
   "metadata": {},
   "outputs": [
    {
     "name": "stdout",
     "output_type": "stream",
     "text": [
      "Représentant USA: \n"
     ]
    },
    {
     "data": {
      "image/jpeg": "[encoded data removed]",
      "text/plain": [
       "<IPython.core.display.Image object>"
      ]
     },
     "execution_count": 5,
     "metadata": {},
     "output_type": "execute_result"
    }
   ],
   "source": [
    "print(\"Représentant USA: \")\n",
    "Image(REP[1] + trainImg)"
   ]
  },
  {
   "cell_type": "code",
   "execution_count": 6,
   "metadata": {},
   "outputs": [],
   "source": [
    "# on écrit les rgb d'une photo évidente de chaque pays\n",
    "distanceModel(REP[0] + trainImg, REP[1] + trainImg)"
   ]
  },
  {
   "cell_type": "markdown",
   "metadata": {},
   "source": [
    "### UTILISATION"
   ]
  },
  {
   "cell_type": "code",
   "execution_count": 7,
   "metadata": {},
   "outputs": [
    {
     "name": "stdout",
     "output_type": "stream",
     "text": [
      "\u001b[34mImage 1 représentante: \u001b[0m\n",
      "Distance euclidienne avec la france :  0.0\n",
      "Distance euclidienne avec les USA :  5904.1\n",
      "C'est la france\n",
      "\u001b[32mOK\n",
      "\u001b[0m\n",
      "\u001b[34mImage 2 trivial: \u001b[0m\n",
      "Distance euclidienne avec la france :  2511.87\n",
      "Distance euclidienne avec les USA :  5969.16\n",
      "C'est la france\n",
      "\u001b[32mOK\n",
      "\u001b[0m\n",
      "\u001b[34mImage 3 trivial: \u001b[0m\n",
      "Distance euclidienne avec la france :  5131.75\n",
      "Distance euclidienne avec les USA :  5092.44\n",
      "C'est les USA\n",
      "\u001b[31mKO\n",
      "\u001b[0m\n",
      "\u001b[34mImage 4 trivial: \u001b[0m\n",
      "Distance euclidienne avec la france :  1729.14\n",
      "Distance euclidienne avec les USA :  5416.19\n",
      "C'est la france\n",
      "\u001b[32mOK\n",
      "\u001b[0m\n",
      "\u001b[34mImage 5 trivial: \u001b[0m\n",
      "Distance euclidienne avec la france :  2186.87\n",
      "Distance euclidienne avec les USA :  5623.78\n",
      "C'est la france\n",
      "\u001b[32mOK\n",
      "\u001b[0m\n",
      "\u001b[34mImage 6 complexe: \u001b[0m\n",
      "Distance euclidienne avec la france :  5328.1\n",
      "Distance euclidienne avec les USA :  3577.19\n",
      "C'est les USA\n",
      "\u001b[31mKO\n",
      "\u001b[0m\n",
      "\u001b[34mImage 7 complexe: \u001b[0m\n",
      "Distance euclidienne avec la france :  8949.06\n",
      "Distance euclidienne avec les USA :  6457.95\n",
      "C'est les USA\n",
      "\u001b[31mKO\n",
      "\u001b[0m\n",
      "\u001b[34mImage 8 complexe: \u001b[0m\n",
      "Distance euclidienne avec la france :  13078.88\n",
      "Distance euclidienne avec les USA :  7488.66\n",
      "C'est les USA\n",
      "\u001b[31mKO\n",
      "\u001b[0m\n",
      "\u001b[34mImage 9 complexe: \u001b[0m\n",
      "Distance euclidienne avec la france :  9119.31\n",
      "Distance euclidienne avec les USA :  5390.6\n",
      "C'est les USA\n",
      "\u001b[31mKO\n",
      "\u001b[0m\n",
      "\u001b[34mImage 10 complexe: \u001b[0m\n",
      "Distance euclidienne avec la france :  5802.93\n",
      "Distance euclidienne avec les USA :  6296.99\n",
      "C'est la france\n",
      "\u001b[32mOK\n",
      "\u001b[0m\n",
      "\u001b[34mImage 1 représentante: \u001b[0m\n",
      "Distance euclidienne avec la france :  5904.1\n",
      "Distance euclidienne avec les USA :  0.0\n",
      "C'est les USA\n",
      "\u001b[32mOK\n",
      "\u001b[0m\n",
      "\u001b[34mImage 2 trivial: \u001b[0m\n",
      "Distance euclidienne avec la france :  4771.89\n",
      "Distance euclidienne avec les USA :  5827.89\n",
      "C'est la france\n",
      "\u001b[31mKO\n",
      "\u001b[0m\n",
      "\u001b[34mImage 3 trivial: \u001b[0m\n",
      "Distance euclidienne avec la france :  4952.68\n",
      "Distance euclidienne avec les USA :  5913.92\n",
      "C'est la france\n",
      "\u001b[31mKO\n",
      "\u001b[0m\n",
      "\u001b[34mImage 4 trivial: \u001b[0m\n",
      "Distance euclidienne avec la france :  3616.65\n",
      "Distance euclidienne avec les USA :  5914.27\n",
      "C'est la france\n",
      "\u001b[31mKO\n",
      "\u001b[0m\n",
      "\u001b[34mImage 5 trivial: \u001b[0m\n",
      "Distance euclidienne avec la france :  7431.58\n",
      "Distance euclidienne avec les USA :  1692.45\n",
      "C'est les USA\n",
      "\u001b[32mOK\n",
      "\u001b[0m\n",
      "\u001b[34mImage 6 complexe: \u001b[0m\n",
      "Distance euclidienne avec la france :  5413.53\n",
      "Distance euclidienne avec les USA :  3910.22\n",
      "C'est les USA\n",
      "\u001b[32mOK\n",
      "\u001b[0m\n",
      "\u001b[34mImage 7 complexe: \u001b[0m\n",
      "Distance euclidienne avec la france :  8199.46\n",
      "Distance euclidienne avec les USA :  5177.19\n",
      "C'est les USA\n",
      "\u001b[32mOK\n",
      "\u001b[0m\n",
      "\u001b[34mImage 8 complexe: \u001b[0m\n",
      "Distance euclidienne avec la france :  4561.56\n",
      "Distance euclidienne avec les USA :  3910.06\n",
      "C'est les USA\n",
      "\u001b[32mOK\n",
      "\u001b[0m\n",
      "\u001b[34mImage 9 complexe: \u001b[0m\n",
      "Distance euclidienne avec la france :  8820.49\n",
      "Distance euclidienne avec les USA :  6473.87\n",
      "C'est les USA\n",
      "\u001b[32mOK\n",
      "\u001b[0m\n",
      "\u001b[34mImage 10 complexe: \u001b[0m\n",
      "Distance euclidienne avec la france :  6965.28\n",
      "Distance euclidienne avec les USA :  4002.3\n",
      "C'est les USA\n",
      "\u001b[32mOK\n",
      "\u001b[0m\n",
      "\u001b[31mErreur sur les images évidentes: 4/10\u001b[0m\n",
      "\u001b[31mErreur sur les images hasardées: 4/10\u001b[0m\n"
     ]
    }
   ],
   "source": [
    "trivialKO = 0\n",
    "hardKO = 0\n",
    "expected = -1\n",
    "\n",
    "for country in REP:\n",
    "    i = 1\n",
    "    \n",
    "    while i < 11:\n",
    "        imgName = str(i) + \".jpg\"\n",
    "        img = cv2.imread(country + imgName)\n",
    "        img = cv2.resize(img, (100, 100))\n",
    "        \n",
    "        if i == 1:\n",
    "            print(colored(\"Image {0} représentante: \", \"blue\").format(i))\n",
    "        elif i < 6:\n",
    "            print(colored(\"Image {0} trivial: \", \"blue\").format(i))\n",
    "        else:\n",
    "            print(colored(\"Image {0} complexe: \", \"blue\").format(i))\n",
    "        \n",
    "        if useDistance(image_to_array(img)) != expected:\n",
    "            print(colored(\"KO\\n\", \"red\"))\n",
    "            if i < 6:\n",
    "                trivialKO += 1\n",
    "            else:\n",
    "                hardKO += 1\n",
    "        else:\n",
    "            print(colored(\"OK\\n\", \"green\"))\n",
    "        i += 1\n",
    "        \n",
    "    expected = 1\n",
    "\n",
    "\n",
    "print(colored(\"Erreur sur les images évidentes: \" + str(trivialKO) + \"/10\", 'red'))\n",
    "print(colored(\"Erreur sur les images hasardées: \" + str(hardKO) + \"/10\", \"red\"))"
   ]
  },
  {
   "cell_type": "markdown",
   "metadata": {},
   "source": [
    "### Images complexes"
   ]
  },
  {
   "cell_type": "code",
   "execution_count": 10,
   "metadata": {},
   "outputs": [
    {
     "data": {
      "image/jpeg": "[encoded data removed]",
      "text/plain": [
       "<IPython.core.display.Image object>"
      ]
     },
     "execution_count": 10,
     "metadata": {},
     "output_type": "execute_result"
    }
   ],
   "source": [
    "#plus grande erreur\n",
    "Image(REP[0] + \"8.jpg\")"
   ]
  },
  {
   "cell_type": "code",
   "execution_count": 11,
   "metadata": {},
   "outputs": [
    {
     "data": {
      "image/jpeg": "[encoded data removed]",
      "text/plain": [
       "<IPython.core.display.Image object>"
      ]
     },
     "execution_count": 11,
     "metadata": {},
     "output_type": "execute_result"
    }
   ],
   "source": [
    "Image(REP[1] + \"8.jpg\")"
   ]
  }
 ],
 "metadata": {
  "kernelspec": {
   "display_name": "Python 3",
   "language": "python",
   "name": "python3"
  },
  "language_info": {
   "codemirror_mode": {
    "name": "ipython",
    "version": 3
   },
   "file_extension": ".py",
   "mimetype": "text/x-python",
   "name": "python",
   "nbconvert_exporter": "python",
   "pygments_lexer": "ipython3",
   "version": "3.7.3"
  }
 },
 "nbformat": 4,
 "nbformat_minor": 2
}
